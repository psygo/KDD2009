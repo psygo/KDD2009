{
 "cells": [
  {
   "cell_type": "markdown",
   "metadata": {},
   "source": [
    "# Outline\n",
    "\n",
    "1. Imports\n",
    "1. Opening the Data\n",
    "1. Fill NaNs\n",
    "1. Dummy Variables\n",
    "1. Training and Testing"
   ]
  },
  {
   "cell_type": "markdown",
   "metadata": {},
   "source": [
    "#### There is no need to do feature scaling here, since Decision Tree types of algorithms don't demand it."
   ]
  },
  {
   "cell_type": "markdown",
   "metadata": {},
   "source": [
    "## 1. Imports"
   ]
  },
  {
   "cell_type": "code",
   "execution_count": 1,
   "metadata": {},
   "outputs": [],
   "source": [
    "import pandas as pd\n",
    "import numpy as np\n",
    "import json\n",
    "\n",
    "import matplotlib.pyplot as plt\n",
    "import seaborn as sns\n",
    "sns.set()\n",
    "\n",
    "from sklearn.ensemble import GradientBoostingClassifier"
   ]
  },
  {
   "cell_type": "markdown",
   "metadata": {},
   "source": [
    "## 2. Opening the Data"
   ]
  },
  {
   "cell_type": "code",
   "execution_count": null,
   "metadata": {},
   "outputs": [],
   "source": [
    "df_test_small = pd.read_csv('orange_small_test.data', sep = '\\t')\n",
    "\n",
    "df_num_test = df_test_small.iloc[:, :-40]\n",
    "df_cat_test = df_test_small.iloc[:, -40:]\n",
    "    \n",
    "df_num_test = df_num_test.astype('float')\n",
    "df_cat_test = df_cat_test.astype('category')"
   ]
  },
  {
   "cell_type": "markdown",
   "metadata": {},
   "source": [
    "## 3. Fill NaNs"
   ]
  },
  {
   "cell_type": "code",
   "execution_count": null,
   "metadata": {},
   "outputs": [],
   "source": [
    "mean_train = pd.read_csv('train_mean.csv', \n",
    "                         names = ['Variable', 'Mean'],\n",
    "                         skiprows = 1).set_index('Variable')\n",
    "mean_train = pd.Series(mean_train['Mean'])"
   ]
  },
  {
   "cell_type": "code",
   "execution_count": null,
   "metadata": {},
   "outputs": [],
   "source": [
    "df_num_test = df_num_test.fillna(mean_train)"
   ]
  },
  {
   "cell_type": "markdown",
   "metadata": {},
   "source": [
    "#### Running the following twice will give an error due to adding the same category twice."
   ]
  },
  {
   "cell_type": "code",
   "execution_count": null,
   "metadata": {},
   "outputs": [],
   "source": [
    "for col in df_cat_test.columns:\n",
    "    df_cat_test[col] = df_cat_test[col].cat.add_categories('missing')\n",
    "    df_cat_test[col] = df_cat_test[col].fillna('missing')\n",
    "    \n",
    "df_all = pd.concat([df_num_test, df_cat_test], axis = 1)"
   ]
  },
  {
   "cell_type": "markdown",
   "metadata": {},
   "source": [
    "## 4. Dummy Variables"
   ]
  },
  {
   "cell_type": "markdown",
   "metadata": {},
   "source": [
    "### Dummy Variables Encoding\n",
    "\n",
    "\n",
    "Probably can delete one of the columns for each variable. **Be Careful** this line might crash your computer's RAM."
   ]
  },
  {
   "cell_type": "code",
   "execution_count": null,
   "metadata": {},
   "outputs": [],
   "source": [
    "df_dummies = pd.get_dummies(df_all)"
   ]
  },
  {
   "cell_type": "markdown",
   "metadata": {},
   "source": [
    "#### Opening the training columns. Use this instead of burning your RAM if you can."
   ]
  },
  {
   "cell_type": "code",
   "execution_count": null,
   "metadata": {},
   "outputs": [],
   "source": [
    "with open('variables.json', 'r') as file:\n",
    "    columns_thresh = json.load(file)"
   ]
  },
  {
   "cell_type": "markdown",
   "metadata": {},
   "source": [
    "#### The columns on the test set are different, so blindly using the ones of the train set is not a thing, I have to test each one."
   ]
  },
  {
   "cell_type": "code",
   "execution_count": null,
   "metadata": {},
   "outputs": [],
   "source": [
    "columns_dummies_test = list(df_dummies.columns)\n",
    "columns_test = {}\n",
    "for k, v in columns_thresh.items():\n",
    "    columns_test[k] = []\n",
    "    for var in v:\n",
    "        if var in columns_dummies_test:\n",
    "            columns_test[k].append(var)"
   ]
  },
  {
   "cell_type": "markdown",
   "metadata": {},
   "source": [
    "#### Now the `dict_thresh` for the test set."
   ]
  },
  {
   "cell_type": "code",
   "execution_count": null,
   "metadata": {},
   "outputs": [],
   "source": [
    "dict_thresh = {k : df_dummies[v]\n",
    "               for k, v in columns_test.items()}"
   ]
  },
  {
   "cell_type": "markdown",
   "metadata": {},
   "source": [
    "#### Saving the Datasets"
   ]
  },
  {
   "cell_type": "code",
   "execution_count": null,
   "metadata": {},
   "outputs": [],
   "source": [
    "for k, v in dict_thresh.items():\n",
    "    v.to_csv(f'test_thresh_{k}.csv')"
   ]
  },
  {
   "cell_type": "markdown",
   "metadata": {},
   "source": [
    "#### Reopening them"
   ]
  },
  {
   "cell_type": "code",
   "execution_count": null,
   "metadata": {},
   "outputs": [],
   "source": [
    "dict_thresh_ext = {}\n",
    "for k, v in columns_thresh.items():\n",
    "    dict_thresh_ext[k] = pd.read_csv(f'test_thresh_{k}.csv',\n",
    "                                     index_col = 0)"
   ]
  },
  {
   "cell_type": "markdown",
   "metadata": {},
   "source": [
    "## 6. Training and Testing"
   ]
  },
  {
   "cell_type": "markdown",
   "metadata": {},
   "source": [
    "#### Training Set "
   ]
  },
  {
   "cell_type": "code",
   "execution_count": null,
   "metadata": {},
   "outputs": [],
   "source": [
    "dict_thresh_train = {}\n",
    "for k, v in dict_thresh_ext.items():\n",
    "    dict_thresh_train = pd.read_csv(f'train_thresh_{k}.csv',\n",
    "                                    index_col = 0)"
   ]
  },
  {
   "cell_type": "markdown",
   "metadata": {},
   "source": [
    "#### Training Targets"
   ]
  },
  {
   "cell_type": "code",
   "execution_count": null,
   "metadata": {},
   "outputs": [],
   "source": [
    "train_targets = {}\n",
    "train_targets['Churn'] = pd.read_csv('orange_small_train_churn.labels', \n",
    "                                     header = None, names = ['churn'])\n",
    "train_targets['Upselling'] = pd.read_csv('orange_small_train_upselling.labels', \n",
    "                                         header = None, names = ['upselling'])\n",
    "train_targets['Appetency'] = pd.read_csv('orange_small_train_appetency.labels', \n",
    "                                         header = None, names = ['appetency'])"
   ]
  },
  {
   "cell_type": "code",
   "execution_count": null,
   "metadata": {},
   "outputs": [],
   "source": [
    "for k, v in train_targets.items():\n",
    "    train_targets[k] = v.astype('category')"
   ]
  },
  {
   "cell_type": "code",
   "execution_count": 2,
   "metadata": {},
   "outputs": [],
   "source": [
    "clf_gb_ult = {\n",
    "              'Churn' : GradientBoostingClassifier(n_estimators = 500, \n",
    "                                                   learning_rate = 0.05,\n",
    "                                                   min_samples_split = 150,\n",
    "                                                   min_samples_leaf = 20,\n",
    "                                                   max_features = 35,\n",
    "                                                   subsample = 0.75,\n",
    "                                                   random_state = 42),\n",
    "              'Upselling' : GradientBoostingClassifier(n_estimators = 300, \n",
    "                                                       learning_rate = 0.1,\n",
    "                                                       min_samples_split = 200,\n",
    "                                                       min_samples_leaf = 45,\n",
    "                                                       max_features = 38,\n",
    "                                                       subsample = 1,\n",
    "                                                       random_state = 42),\n",
    "              'Appetency' : GradientBoostingClassifier(n_estimators = 300, \n",
    "                                                       learning_rate = 0.05,\n",
    "                                                       min_samples_split = 100,\n",
    "                                                       min_samples_leaf = 55,\n",
    "                                                       max_features = 38,\n",
    "                                                       subsample = 1,\n",
    "                                                       random_state = 42),\n",
    "             }"
   ]
  },
  {
   "cell_type": "markdown",
   "metadata": {},
   "source": [
    "#### Matching columns on both the training and test sets."
   ]
  },
  {
   "cell_type": "code",
   "execution_count": null,
   "metadata": {},
   "outputs": [],
   "source": [
    "for k, v in dict_thresh_train.items():\n",
    "    vars_test = dict_thresh_ext[k].columns.tolist()\n",
    "    for col in dict_thresh_train[k].columns.tolist():\n",
    "        if col not in vars_test:\n",
    "            del dict_thresh_train[k][col]"
   ]
  },
  {
   "cell_type": "markdown",
   "metadata": {},
   "source": [
    "#### Fitting and Predicting"
   ]
  },
  {
   "cell_type": "code",
   "execution_count": null,
   "metadata": {},
   "outputs": [],
   "source": [
    "predictions = {}\n",
    "for k, v in clf_gb_ult.items():\n",
    "    \n",
    "    clf_gb_ult[k].fit(dict_thresh_train[k], train_targets[k])\n",
    "    \n",
    "    predictions[k] = clf_gb_ult[k].predict(dict_thresh_ext[k])"
   ]
  },
  {
   "cell_type": "markdown",
   "metadata": {},
   "source": [
    "#### Saving "
   ]
  },
  {
   "cell_type": "code",
   "execution_count": null,
   "metadata": {},
   "outputs": [],
   "source": [
    "for k, v in predictions.items():\n",
    "    df_pred_final = pd.DataFrame(v)\n",
    "    df_pred_final.to_csv(f'predictions_test_final_{k}.csv', \n",
    "                         header = None,\n",
    "                         index = False)"
   ]
  }
 ],
 "metadata": {
  "kernelspec": {
   "display_name": "Python 3",
   "language": "python",
   "name": "python3"
  },
  "language_info": {
   "codemirror_mode": {
    "name": "ipython",
    "version": 3
   },
   "file_extension": ".py",
   "mimetype": "text/x-python",
   "name": "python",
   "nbconvert_exporter": "python",
   "pygments_lexer": "ipython3",
   "version": "3.6.5"
  },
  "varInspector": {
   "cols": {
    "lenName": 16,
    "lenType": 16,
    "lenVar": 40
   },
   "kernels_config": {
    "python": {
     "delete_cmd_postfix": "",
     "delete_cmd_prefix": "del ",
     "library": "var_list.py",
     "varRefreshCmd": "print(var_dic_list())"
    },
    "r": {
     "delete_cmd_postfix": ") ",
     "delete_cmd_prefix": "rm(",
     "library": "var_list.r",
     "varRefreshCmd": "cat(var_dic_list()) "
    }
   },
   "types_to_exclude": [
    "module",
    "function",
    "builtin_function_or_method",
    "instance",
    "_Feature"
   ],
   "window_display": false
  }
 },
 "nbformat": 4,
 "nbformat_minor": 2
}
