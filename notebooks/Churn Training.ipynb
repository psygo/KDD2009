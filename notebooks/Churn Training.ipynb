{
 "cells": [
  {
   "cell_type": "markdown",
   "metadata": {},
   "source": [
    "# Guidelines\n",
    "\n",
    "1. **Preprocessing**\n",
    "    1. Imports\n",
    "    1. Opening the Data\n",
    "    1. Verifying Consistency\n",
    "    1. Feature Scaling\n",
    "    1. Deleting Vars with too many NaNs\n",
    "    1. Filling NaNs\n",
    "    1. Deleting Vars with too many Categories\n",
    "    1. Feature Selection with Decision Trees\n",
    "1. **Modelling**\n",
    "    1. Imports\n",
    "    1. Train Test Split\n",
    "    1. Evaluating Models' Performances (ROC-AUC)\n",
    "1. **Best Model Optimization (Gradient Boosting)**\n",
    "    1. Separate Optimization\n",
    "    1. Global Optimization\n",
    "    1. Final Model's ROC-AUC"
   ]
  },
  {
   "cell_type": "markdown",
   "metadata": {},
   "source": [
    "## Results\n",
    "\n",
    "In the end, for the training set we will have ROC-AUCs:\n",
    "\n",
    "- **Churn**: 0.73202\n",
    "- **Upselling**: 0.86373\n",
    "- **Appetency**: 0.82624\n",
    "\n",
    "\n",
    "$\\Rightarrow$ **Average**: 0.80733"
   ]
  },
  {
   "cell_type": "markdown",
   "metadata": {},
   "source": [
    "### Short Notes\n",
    "\n",
    "The targets are very sparse, which causes many problems, since putting everything to zeros should be good enough to get very high levels of accuracy.\n",
    "\n",
    "\n",
    "To mitigate this effect, besides using ROC-AUC, FPR and TPR criteria, we could resample the positive values on the targets. However, this has not been proven very effective, neither **Subsampling** the negative values nor using **SMOTE** to supersample the positive values worked very well.\n",
    "\n",
    "\n",
    "Another item to try in a later attempt is to calculate the **mutual info scores** (analogous to Pearson Correlations, but for classes), in order to get how much information even the variables with many NaNs carry. In this notebook, I deliberately deleted variables with too many NaNs instead."
   ]
  },
  {
   "cell_type": "markdown",
   "metadata": {},
   "source": [
    "## Main Files\n",
    "\n",
    "- Notebooks:\n",
    "    - `Churn Training.ipynb`\n",
    "    - `Churn Testing.ipynb`\n",
    "- Python Scripts:\n",
    "    - `churn_hekima_v2.py` - training\n",
    "    - `hekima_small_test.py` - testing"
   ]
  },
  {
   "cell_type": "markdown",
   "metadata": {},
   "source": [
    "# 1. Preprocessing\n",
    "\n",
    "1. Imports\n",
    "1. Opening the Data\n",
    "1. Verifying Consistency\n",
    "1. Feature Scaling\n",
    "1. Deleting Vars with too many NaNs\n",
    "1. Filling NaNs\n",
    "1. Deleting Vars with too many Categories\n",
    "1. Feature Selection with Decision Trees"
   ]
  },
  {
   "cell_type": "markdown",
   "metadata": {},
   "source": [
    "## 1.1 Imports"
   ]
  },
  {
   "cell_type": "code",
   "execution_count": 1,
   "metadata": {},
   "outputs": [],
   "source": [
    "import pandas as pd\n",
    "import numpy as np\n",
    "import json\n",
    "\n",
    "import matplotlib.pyplot as plt\n",
    "import seaborn as sns\n",
    "sns.set()\n",
    "\n",
    "from sklearn.ensemble import RandomForestClassifier"
   ]
  },
  {
   "cell_type": "markdown",
   "metadata": {},
   "source": [
    "## 1.2 Opening the Training Data"
   ]
  },
  {
   "cell_type": "markdown",
   "metadata": {},
   "source": [
    "### Independent Variables"
   ]
  },
  {
   "cell_type": "code",
   "execution_count": null,
   "metadata": {},
   "outputs": [],
   "source": [
    "df = pd.read_csv('orange_small_train.data', sep = '\\t')\n",
    "df_num = df.iloc[:, :-40]\n",
    "df_cat = df.iloc[:, -40:]"
   ]
  },
  {
   "cell_type": "markdown",
   "metadata": {},
   "source": [
    "### Targets"
   ]
  },
  {
   "cell_type": "code",
   "execution_count": 2,
   "metadata": {},
   "outputs": [],
   "source": [
    "df_churn = pd.read_csv('orange_small_train_churn.labels', \n",
    "                       header = None, names = ['churn'])\n",
    "df_upselling = pd.read_csv('orange_small_train_upselling.labels', \n",
    "                           header = None, names = ['upselling'])\n",
    "df_appetency = pd.read_csv('orange_small_train_appetency.labels', \n",
    "                           header = None, names = ['appetency'])\n",
    "df_targets = pd.concat([df_churn, df_upselling, df_appetency],\n",
    "                       axis = 1)"
   ]
  },
  {
   "cell_type": "markdown",
   "metadata": {},
   "source": [
    "## 1.3 Verifying Consistency"
   ]
  },
  {
   "cell_type": "markdown",
   "metadata": {},
   "source": [
    "#### Are the Number Variables really numbers?"
   ]
  },
  {
   "cell_type": "code",
   "execution_count": 3,
   "metadata": {},
   "outputs": [],
   "source": [
    "sum_check = list(df_num.sum().values)\n",
    "sum_check = [float(i) for i in sum_check]\n",
    "num_check = sum([type(sum_check[i]) == float \n",
    "                 for i in range(0, len(sum_check))])"
   ]
  },
  {
   "cell_type": "markdown",
   "metadata": {},
   "source": [
    "#### The answer is yes apparently, since there are 190 float numbers in the check variable"
   ]
  },
  {
   "cell_type": "code",
   "execution_count": 4,
   "metadata": {},
   "outputs": [
    {
     "name": "stdout",
     "output_type": "stream",
     "text": [
      "The number of valid numerical variables is:\n",
      "190 out of 190\n"
     ]
    }
   ],
   "source": [
    "print('The number of valid numerical variables is:')\n",
    "print(f'{num_check} out of {len(sum_check)}')"
   ]
  },
  {
   "cell_type": "markdown",
   "metadata": {},
   "source": [
    "#### Are the categorical variables really categorical?"
   ]
  },
  {
   "cell_type": "code",
   "execution_count": 5,
   "metadata": {},
   "outputs": [],
   "source": [
    "def check_column_cat(df_col):\n",
    "    \"\"\"\n",
    "    Checks if all the elements in a categorical column \n",
    "    are indeed categorical.\n",
    "    \"\"\"\n",
    "    \n",
    "    str_count = 0\n",
    "    for i in range(0, df_col.shape[0]):\n",
    "        if type(df_col.index[i]) == str:\n",
    "            str_count += 1\n",
    "            \n",
    "    return str_count == df_col.shape[0]"
   ]
  },
  {
   "cell_type": "markdown",
   "metadata": {},
   "source": [
    "#### Looping on all the columns"
   ]
  },
  {
   "cell_type": "code",
   "execution_count": 7,
   "metadata": {},
   "outputs": [
    {
     "name": "stdout",
     "output_type": "stream",
     "text": [
      "The number of valid categorical variables is:\n",
      "38 out of 38\n"
     ]
    }
   ],
   "source": [
    "col_checks = []\n",
    "for col in df_cat.columns:\n",
    "    catty = pd.DataFrame(df_cat[col])\n",
    "    if int(catty.isnull().sum()) == catty.shape[0]:\n",
    "        continue\n",
    "    cat = catty.groupby(col).size()\n",
    "    col_checks.append(check_column_cat(cat))\n",
    "    \n",
    "cat_check = sum(col_checks)\n",
    "print('The number of valid categorical variables is:')\n",
    "print(f'{cat_check} out of {len(col_checks)}')"
   ]
  },
  {
   "cell_type": "markdown",
   "metadata": {},
   "source": [
    "#### Correcting the data types on the dataframe"
   ]
  },
  {
   "cell_type": "code",
   "execution_count": 8,
   "metadata": {},
   "outputs": [],
   "source": [
    "df_num = df_num.astype('float')\n",
    "df_cat = df_cat.astype('category')\n",
    "df_all = pd.concat([df_num, df_cat], axis = 1)"
   ]
  },
  {
   "cell_type": "markdown",
   "metadata": {},
   "source": [
    "#### Correcting the data types on the targets"
   ]
  },
  {
   "cell_type": "code",
   "execution_count": 10,
   "metadata": {},
   "outputs": [],
   "source": [
    "df_churn = df_churn.astype('category')\n",
    "df_upselling = df_upselling.astype('category')\n",
    "df_appetency = df_appetency.astype('category')\n",
    "df_targets = df_targets.astype('category')"
   ]
  },
  {
   "cell_type": "markdown",
   "metadata": {},
   "source": [
    "## 1.4 Feature Scaling"
   ]
  },
  {
   "cell_type": "markdown",
   "metadata": {},
   "source": [
    "#### Necessary, otherwise some features will inevitably have more importance than others."
   ]
  },
  {
   "cell_type": "code",
   "execution_count": 9,
   "metadata": {},
   "outputs": [],
   "source": [
    "df_num = (df_num - df_num.mean()) / df_num.std()\n",
    "\n",
    "mean, std = pd.DataFrame(df_num.mean()), pd.DataFrame(df_num.std())\n",
    "mean.to_csv('train_mean.csv')\n",
    "std.to_csv('train_std.csv')"
   ]
  },
  {
   "cell_type": "markdown",
   "metadata": {},
   "source": [
    "## 1.5 Deleting Vars with Too Many NaNs"
   ]
  },
  {
   "cell_type": "code",
   "execution_count": 11,
   "metadata": {},
   "outputs": [
    {
     "data": {
      "image/png": "[encoded data removed]",
      "text/plain": [
       "<Figure size 432x288 with 1 Axes>"
      ]
     },
     "metadata": {},
     "output_type": "display_data"
    }
   ],
   "source": [
    "nans_per_col = df_all.isnull().sum()\n",
    "num_40k = nans_per_col[nans_per_col >= 40000].shape[0]\n",
    "\n",
    "nans_per_col.hist(bins = 20)\n",
    "plt.xlabel('# of NaNs in the Column')\n",
    "plt.ylabel('# of columns')\n",
    "plt.title(f'Histogram of # of NaNs in the Column x # of Columns \\\n",
    "          \\n # of Columns with more than 40,000 NaNs: {num_40k}')\n",
    "plt.show()\n",
    "plt.close()"
   ]
  },
  {
   "cell_type": "code",
   "execution_count": 13,
   "metadata": {},
   "outputs": [],
   "source": [
    "def delete_useless(df, max_na):\n",
    "    \"\"\"\n",
    "    Deletes variables with more than 'max_na' NaNs.\n",
    "    \"\"\"\n",
    "    \n",
    "    cols = df.columns\n",
    "    for col in cols:    \n",
    "        if df[col].isnull().sum() >= max_na:\n",
    "            del df[col]"
   ]
  },
  {
   "cell_type": "markdown",
   "metadata": {},
   "source": [
    "#### Deleting Variables with more than 40,000 NaNs"
   ]
  },
  {
   "cell_type": "code",
   "execution_count": 14,
   "metadata": {},
   "outputs": [],
   "source": [
    "delete_useless(df_num, 40000)\n",
    "delete_useless(df_cat, 40000)"
   ]
  },
  {
   "cell_type": "markdown",
   "metadata": {},
   "source": [
    "## 1.6 Filling NaNs"
   ]
  },
  {
   "cell_type": "code",
   "execution_count": 16,
   "metadata": {},
   "outputs": [],
   "source": [
    "df_num = df_num.fillna(df_num.mean())"
   ]
  },
  {
   "cell_type": "markdown",
   "metadata": {},
   "source": [
    "#### Running the following twice will give an error due to adding the same category twice."
   ]
  },
  {
   "cell_type": "code",
   "execution_count": 17,
   "metadata": {},
   "outputs": [],
   "source": [
    "for col in df_cat.columns:\n",
    "    df_cat[col] = df_cat[col].cat.add_categories('missing')\n",
    "    df_cat[col] = df_cat[col].fillna('missing')"
   ]
  },
  {
   "cell_type": "markdown",
   "metadata": {},
   "source": [
    "## 1.7 Deleting Vars with Too Many Categories"
   ]
  },
  {
   "cell_type": "markdown",
   "metadata": {},
   "source": [
    "#### Grouping the Categories of each column."
   ]
  },
  {
   "cell_type": "code",
   "execution_count": 18,
   "metadata": {},
   "outputs": [],
   "source": [
    "num_cats = []\n",
    "for col in df_cat.columns:\n",
    "    \n",
    "    df_col = pd.DataFrame(df_cat[col])\n",
    "    df_col = df_col.groupby(col).size()\n",
    "    num_cats.append([col, df_col.index.shape[0]])\n",
    "\n",
    "num_cats_num = [item[1] for item in num_cats]"
   ]
  },
  {
   "cell_type": "code",
   "execution_count": 20,
   "metadata": {},
   "outputs": [
    {
     "data": {
      "image/png": "[encoded data removed]",
      "text/plain": [
       "<Figure size 432x288 with 1 Axes>"
      ]
     },
     "metadata": {},
     "output_type": "display_data"
    }
   ],
   "source": [
    "plt.hist(num_cats_num, bins = 20)\n",
    "plt.xlabel('# of Categories')\n",
    "plt.ylabel('# of Variables')\n",
    "plt.title('Histogram of # of Categories x # of Variables')\n",
    "plt.show()\n",
    "plt.close()"
   ]
  },
  {
   "cell_type": "markdown",
   "metadata": {},
   "source": [
    "#### Given that most of the categorical variables have at most 2,000 categories, let's get rid of the excessive ones."
   ]
  },
  {
   "cell_type": "code",
   "execution_count": 21,
   "metadata": {},
   "outputs": [],
   "source": [
    "cat_del = [] # categories to delete\n",
    "for item in num_cats:\n",
    "    if item[1] > 2000:\n",
    "        cat_del.append(item[0])\n",
    "        \n",
    "for cat in cat_del:\n",
    "    del df_cat[cat]\n",
    "    \n",
    "df_all = pd.concat([df_num, df_cat], axis = 1)"
   ]
  },
  {
   "cell_type": "markdown",
   "metadata": {},
   "source": [
    "# 1.8 Feature Selection with Decision Trees"
   ]
  },
  {
   "cell_type": "markdown",
   "metadata": {},
   "source": [
    "#### Importance Ordering based on a Random Forest Classifier."
   ]
  },
  {
   "cell_type": "code",
   "execution_count": 22,
   "metadata": {},
   "outputs": [],
   "source": [
    "def get_importances(features, targets):\n",
    "    \"\"\"\n",
    "    Returns the feature importances and orders them.\n",
    "    \"\"\"\n",
    "    \n",
    "    # Running the Tree\n",
    "    clf_tree = RandomForestClassifier(n_estimators = 500,\n",
    "                                      criterion = 'entropy',\n",
    "                                      n_jobs = 5, \n",
    "                                      random_state = 42)\n",
    "    clf_tree.fit(features, targets.values.ravel())\n",
    "    importances = clf_tree.feature_importances_\n",
    "    \n",
    "    # Ordering the Importance of the Variables\n",
    "    variables = np.array(features.columns)\n",
    "    indices = np.argsort(importances)[: : -1]\n",
    "    importances = importances[indices]\n",
    "    variables = variables[indices]\n",
    "    \n",
    "    return variables, importances"
   ]
  },
  {
   "cell_type": "markdown",
   "metadata": {},
   "source": [
    "#### Dummy Variables Encoding.\n",
    "\n",
    "Probably can delete one of the columns for each variable (dummy variable trap). But this will be done naturally when we get the most important features from the Random Forest."
   ]
  },
  {
   "cell_type": "code",
   "execution_count": 23,
   "metadata": {},
   "outputs": [],
   "source": [
    "df_dummies = pd.get_dummies(df_all)"
   ]
  },
  {
   "cell_type": "code",
   "execution_count": 24,
   "metadata": {},
   "outputs": [],
   "source": [
    "dict_targets = {'Churn' : df_churn,\n",
    "                'Upselling' : df_upselling,\n",
    "                'Appetency' : df_appetency}"
   ]
  },
  {
   "cell_type": "code",
   "execution_count": 25,
   "metadata": {},
   "outputs": [],
   "source": [
    "dict_importances = {k : get_importances(df_dummies, v) \n",
    "                    for k, v in dict_targets.items()}"
   ]
  },
  {
   "cell_type": "code",
   "execution_count": 26,
   "metadata": {},
   "outputs": [],
   "source": [
    "def sum_importances(variables, importances):\n",
    "    \"\"\"\n",
    "    Sums the importances up to the k-th variable.\n",
    "    Cumulative Importance.\n",
    "    \"\"\"\n",
    "    \n",
    "    sum_importances = []\n",
    "    for i in range(importances.shape[0]):\n",
    "        sum_importance = importances[:(i + 1)].sum()\n",
    "        sum_importances.append([variables[i], sum_importance])\n",
    "\n",
    "    return sum_importances"
   ]
  },
  {
   "cell_type": "markdown",
   "metadata": {},
   "source": [
    "#### Cumulative Sum of the Importances"
   ]
  },
  {
   "cell_type": "code",
   "execution_count": 27,
   "metadata": {},
   "outputs": [],
   "source": [
    "dict_sum_importances = {k : sum_importances(v[0], v[1])\n",
    "                        for k, v in dict_importances.items()}"
   ]
  },
  {
   "cell_type": "code",
   "execution_count": 28,
   "metadata": {},
   "outputs": [],
   "source": [
    "def thresh_vars(features, sum_importance_list, threshold):\n",
    "    \"\"\"\n",
    "    Thresholds the most important features.\n",
    "    \"\"\"\n",
    "    \n",
    "    thresh_vars = []\n",
    "    for item in sum_importance_list:\n",
    "        if item[1] <= threshold:\n",
    "            thresh_vars.append(item[0])\n",
    "            \n",
    "    df = features.loc[:, thresh_vars]\n",
    "    \n",
    "    return df"
   ]
  },
  {
   "cell_type": "markdown",
   "metadata": {},
   "source": [
    "#### 99% Threshold. Many features seem to not help too much (see graph below)."
   ]
  },
  {
   "cell_type": "code",
   "execution_count": 29,
   "metadata": {},
   "outputs": [],
   "source": [
    "dict_thresh = {k : thresh_vars(df_dummies, v, 0.99) \n",
    "              for k, v in dict_sum_importances.items()}"
   ]
  },
  {
   "cell_type": "markdown",
   "metadata": {},
   "source": [
    "#### Saving the training dataset for later use during testing."
   ]
  },
  {
   "cell_type": "code",
   "execution_count": 30,
   "metadata": {},
   "outputs": [],
   "source": [
    "for k, v in dict_thresh.items():\n",
    "    v.to_csv(f'train_thresh_{k}.csv')"
   ]
  },
  {
   "cell_type": "markdown",
   "metadata": {},
   "source": [
    "#### Saving the Columns of the Filtered Variables (for the testing later)."
   ]
  },
  {
   "cell_type": "code",
   "execution_count": 31,
   "metadata": {},
   "outputs": [],
   "source": [
    "columns_thresh = {k : list(v.columns)\n",
    "                  for k, v in dict_thresh.items()}\n",
    "with open('variables.json', 'w') as file:\n",
    "    json.dump(columns_thresh, file)"
   ]
  },
  {
   "cell_type": "markdown",
   "metadata": {},
   "source": [
    "#### Reopening the Columns of the Filtered Variables."
   ]
  },
  {
   "cell_type": "code",
   "execution_count": 32,
   "metadata": {},
   "outputs": [],
   "source": [
    "with open('variables.json', 'r') as file:\n",
    "    columns_thresh = json.load(file)"
   ]
  },
  {
   "cell_type": "markdown",
   "metadata": {},
   "source": [
    "#### Importance Sum x Amount of Variables Graph"
   ]
  },
  {
   "cell_type": "code",
   "execution_count": 33,
   "metadata": {},
   "outputs": [
    {
     "data": {
      "image/png": "[encoded data removed]",
      "text/plain": [
       "<Figure size 432x288 with 1 Axes>"
      ]
     },
     "metadata": {},
     "output_type": "display_data"
    }
   ],
   "source": [
    "dict_sum_imp = {k : [item[1] for item in v]\n",
    "                for k, v in dict_sum_importances.items()}\n",
    "\n",
    "for k, v in dict_sum_imp.items():\n",
    "    plt.plot(np.linspace(1, len(v), len(v)), v,\n",
    "             label = f'Sum Importance {k}: {dict_thresh[k].shape[1]} Variables')\n",
    "    \n",
    "plt.axhline(0.9, color = 'green', label = '90% Threshold', ls = '--')\n",
    "plt.axhline(0.99, color = 'red', label = '99% Threshold', ls = '--')\n",
    "plt.xlabel('Amount of Variables')\n",
    "plt.ylabel('Importance Sum')\n",
    "plt.title('Importance Sum x Amount of Variables')\n",
    "plt.legend()\n",
    "plt.show()\n",
    "plt.close()"
   ]
  },
  {
   "cell_type": "markdown",
   "metadata": {},
   "source": [
    "# 2. Modelling\n",
    "\n",
    "1. Imports\n",
    "1. Train Test Split\n",
    "1. Evaluating Models' Performances (ROC-AUC)\n",
    "1. FPR, TPR, ROC & AUC"
   ]
  },
  {
   "cell_type": "markdown",
   "metadata": {},
   "source": [
    "## 2.1 Imports\n",
    "\n",
    "The Random Forest Import is in the Preprocessing part."
   ]
  },
  {
   "cell_type": "code",
   "execution_count": 34,
   "metadata": {},
   "outputs": [],
   "source": [
    "import time\n",
    "\n",
    "from sklearn.model_selection import train_test_split\n",
    "from sklearn.model_selection import cross_val_score\n",
    "from sklearn.model_selection import GridSearchCV\n",
    "\n",
    "from sklearn.linear_model import LogisticRegression\n",
    "from sklearn.ensemble import GradientBoostingClassifier\n",
    "from sklearn.tree import DecisionTreeClassifier\n",
    "from sklearn.naive_bayes import GaussianNB\n",
    "from sklearn.svm import SVC\n",
    "from sklearn.ensemble import AdaBoostClassifier\n",
    "from sklearn.neural_network import MLPClassifier"
   ]
  },
  {
   "cell_type": "markdown",
   "metadata": {},
   "source": [
    "## 2.2 Train-Test Split"
   ]
  },
  {
   "cell_type": "code",
   "execution_count": 35,
   "metadata": {},
   "outputs": [],
   "source": [
    "test_size = 0.1\n",
    "dict_split = {}\n",
    "for k, v in dict_thresh.items():\n",
    "    X_train, X_test, y_train, y_test = train_test_split(dict_thresh[k], \n",
    "                                                        dict_targets[k],\n",
    "                                                        test_size = test_size,\n",
    "                                                        random_state = 42)\n",
    "    dict_split[k] = [X_train, X_test, \n",
    "                     y_train.values.ravel(), y_test.values.ravel()]"
   ]
  },
  {
   "cell_type": "markdown",
   "metadata": {},
   "source": [
    "## 2.3 Evaluating Models' Performances"
   ]
  },
  {
   "cell_type": "code",
   "execution_count": 36,
   "metadata": {},
   "outputs": [],
   "source": [
    "def k_fold_val(clf, X, y, n_cv, score_type):\n",
    "    \"\"\"\n",
    "    k-Fold Crossvalidation.\n",
    "    \n",
    "    Returns the Mean.\n",
    "    \"\"\"\n",
    "    kv_score = cross_val_score(clf, \n",
    "                               X, y,\n",
    "                               cv = n_cv,\n",
    "                               scoring = score_type)\n",
    "    \n",
    "    return kv_score.mean()"
   ]
  },
  {
   "cell_type": "code",
   "execution_count": 37,
   "metadata": {},
   "outputs": [],
   "source": [
    "def cross_val_all(clf, dict_Xy, n_cv, score_type):\n",
    "    \"\"\"\n",
    "    Runs k-Fold Cross Validation on all 3 targets.\n",
    "    \"\"\"\n",
    "    \n",
    "    kv_all = {}\n",
    "    for k, v in dict_Xy.items():\n",
    "        kv_all[k] = k_fold_val(clf, \n",
    "                               v[0], v[2],\n",
    "                               n_cv, score_type)\n",
    "        \n",
    "    return kv_all"
   ]
  },
  {
   "cell_type": "markdown",
   "metadata": {},
   "source": [
    "#### Dict with all the classifiers:\n",
    "\n",
    "For the **NN**, I took a guess for the hidden layers: the number of neurons in each hidden layer is about $= \\frac{number \\ of \\ variables}{2} \\approx 300$. \n",
    "\n",
    "\n",
    "Avoid using too many estimators for the **Tree Classifiers**, they can take quite long to get optimized."
   ]
  },
  {
   "cell_type": "code",
   "execution_count": 38,
   "metadata": {},
   "outputs": [],
   "source": [
    "clfs = {'RF' : RandomForestClassifier(n_estimators = 200,\n",
    "                                      random_state = 42,\n",
    "                                      n_jobs = 5),\n",
    "        'LR' : LogisticRegression(solver = 'lbfgs'),\n",
    "        'GB' : GradientBoostingClassifier(n_estimators = 200, \n",
    "                                          learning_rate = 0.1, \n",
    "                                          random_state = 42),\n",
    "        'DT' : DecisionTreeClassifier(),\n",
    "        'GNB' : GaussianNB(),\n",
    "        'SVM' : SVC(gamma = 'auto'),\n",
    "        'ADA' : AdaBoostClassifier(DecisionTreeClassifier(max_depth = 3),\n",
    "                                   algorithm=\"SAMME\",\n",
    "                                   n_estimators = 200),\n",
    "        'NN' : MLPClassifier(solver = 'adam', max_iter = 5000, \n",
    "                             hidden_layer_sizes = (300, 300, 300, 300))}"
   ]
  },
  {
   "cell_type": "markdown",
   "metadata": {},
   "source": [
    "#### Each Cross Validation is effectively making $3 n_{cv}$ fits and validations."
   ]
  },
  {
   "cell_type": "code",
   "execution_count": 39,
   "metadata": {},
   "outputs": [],
   "source": [
    "kv_scores_auc = {}\n",
    "n_cv, score_func = 5, 'roc_auc'"
   ]
  },
  {
   "cell_type": "markdown",
   "metadata": {},
   "source": [
    "#### Only calling them separetely to avoid having to wait too much...\n",
    "\n",
    "The **SVM**, for example, takes about 1.5h to run one iteration of CV. Yes, I waited approximately 3 x 5 = 15h for the SVM... and all this to get mediocre 0.5 AUCs..."
   ]
  },
  {
   "cell_type": "code",
   "execution_count": null,
   "metadata": {},
   "outputs": [],
   "source": [
    "kv_scores_auc['RF'] = cross_val_all(clfs['RF'], dict_split, n_cv, score_func)\n",
    "kv_scores_auc['LR'] = cross_val_all(clfs['LR'], dict_split, n_cv, score_func)\n",
    "kv_scores_auc['GB'] = cross_val_all(clfs['GB'], dict_split, n_cv, score_func)\n",
    "kv_scores_auc['GNB'] = cross_val_all(clfs['GNB'], dict_split, n_cv, score_func)\n",
    "kv_scores_auc['SVM'] = cross_val_all(clfs['SVM'], dict_split, n_cv, score_func)\n",
    "kv_scores_auc['ADA'] = cross_val_all(clfs['ADA'], dict_split, n_cv, score_func)\n",
    "kv_scores_auc['NN'] = cross_val_all(clfs['NN'], dict_split, n_cv, score_func)"
   ]
  },
  {
   "cell_type": "markdown",
   "metadata": {},
   "source": [
    "#### Algorithm Ranking for Each Target"
   ]
  },
  {
   "cell_type": "code",
   "execution_count": 40,
   "metadata": {},
   "outputs": [],
   "source": [
    "def sort_scores(scores):\n",
    "    \"\"\"\n",
    "    Sorts kv_scores in descending order.\n",
    "    \"\"\"\n",
    "\n",
    "    c_full, u_full, a_full = [], [], []\n",
    "    for clf_k, clf_v in kv_scores_auc.items():\n",
    "        \n",
    "        for k, v in clf_v.items():\n",
    "            if k == 'Churn':\n",
    "                c = [clf_k, v]\n",
    "            elif k == 'Upselling':\n",
    "                u = [clf_k, v]\n",
    "            elif k == 'Appetency':\n",
    "                a = [clf_k, v]\n",
    "                \n",
    "        c_full.append(c)\n",
    "        u_full.append(u)\n",
    "        a_full.append(a)\n",
    "        \n",
    "    c_df = pd.DataFrame(c_full, columns = ['Algorithm', 'kv_score_auc'])\n",
    "    u_df = pd.DataFrame(u_full, columns = ['Algorithm', 'kv_score_auc'])\n",
    "    a_df = pd.DataFrame(a_full, columns = ['Algorithm', 'kv_score_auc'])\n",
    "    \n",
    "    ranking = {'Churn' : c_df.sort_values(by = 'kv_score_auc', \n",
    "                                          ascending = False),\n",
    "               'Upselling' : u_df.sort_values(by = 'kv_score_auc', \n",
    "                                              ascending = False),\n",
    "               'Appetency' : a_df.sort_values(by = 'kv_score_auc', \n",
    "                                              ascending = False)}\n",
    "               \n",
    "    return ranking"
   ]
  },
  {
   "cell_type": "code",
   "execution_count": null,
   "metadata": {},
   "outputs": [],
   "source": [
    "ranking = sort_scores(kv_scores_auc)"
   ]
  },
  {
   "cell_type": "markdown",
   "metadata": {},
   "source": [
    "#### Saving the `kv_scores_auc` to avoid having to run it again."
   ]
  },
  {
   "cell_type": "code",
   "execution_count": null,
   "metadata": {},
   "outputs": [],
   "source": [
    "ranking_dict = {'Churn' : ranking['Churn'].values.tolist(), \n",
    "                'Upselling' : ranking['Upselling'].values.tolist(),\n",
    "                'Appetency' : ranking['Appetency'].values.tolist()}\n",
    "with open('kv_scores_auc_ranked.json', 'w') as file:\n",
    "    json.dump(ranking_dict, file)"
   ]
  },
  {
   "cell_type": "markdown",
   "metadata": {},
   "source": [
    "#### Reopening it."
   ]
  },
  {
   "cell_type": "code",
   "execution_count": 42,
   "metadata": {},
   "outputs": [],
   "source": [
    "with open('kv_scores_auc_ranked.json', 'r') as file:\n",
    "    ranking_json = json.load(file)\n",
    "    \n",
    "ranking_json = {k: pd.DataFrame(v, columns = ['Algorithm', 'kv_score_auc']) \n",
    "                for k, v in ranking_json.items()}"
   ]
  },
  {
   "cell_type": "markdown",
   "metadata": {},
   "source": [
    "#### Ranking Plot"
   ]
  },
  {
   "cell_type": "code",
   "execution_count": 43,
   "metadata": {},
   "outputs": [
    {
     "data": {
      "image/png": "[encoded data removed]",
      "text/plain": [
       "<Figure size 432x288 with 1 Axes>"
      ]
     },
     "metadata": {},
     "output_type": "display_data"
    }
   ],
   "source": [
    "for k, v in ranking_json.items():\n",
    "    winner_algo = v[\"Algorithm\"].iloc[0]\n",
    "    winner_score = round(v[\"kv_score_auc\"].iloc[0], 3)\n",
    "    plt.scatter(v['Algorithm'], v['kv_score_auc'],\n",
    "                label = f'{k}: {winner_algo} at {winner_score}')  \n",
    "plt.xlabel('Algorithm')\n",
    "plt.ylabel(f'{n_cv}-Fold Cross Validation ROC-AUC')\n",
    "plt.title(f'{n_cv}-Fold Cross Validation ROC-AUC x Algorithm')\n",
    "plt.legend()\n",
    "plt.show()\n",
    "plt.close()"
   ]
  },
  {
   "cell_type": "markdown",
   "metadata": {},
   "source": [
    "# 3. Best Algorithm Optimization\n",
    "\n",
    "1. Separate Optimization\n",
    "1. Global Optimization\n",
    "1. Final Model's ROC-AUC\n",
    "\n",
    "From the graph in section 2.3, we can see that the best choice is **Gradient Boosting**. Though, perhaps, with some more optimization Neural Networks could also be a contender.\n",
    "\n",
    "\n",
    "This is mostly going to be greedy optimization, i.e., we will fix certain parameters and then look for an optimal dependent one. The computational cost of doing a full-scale optimization is too high.\n",
    "\n",
    "\n",
    "Later, once we have somewhat optimized parameters, we can run a complete Grid Search with more restricted variables."
   ]
  },
  {
   "cell_type": "markdown",
   "metadata": {},
   "source": [
    "## 3.1 Separate Optimization"
   ]
  },
  {
   "cell_type": "code",
   "execution_count": 44,
   "metadata": {},
   "outputs": [],
   "source": [
    "clf_gb = GradientBoostingClassifier(n_estimators = 100, \n",
    "                                    learning_rate = 0.1, \n",
    "                                    random_state = 42)"
   ]
  },
  {
   "cell_type": "markdown",
   "metadata": {},
   "source": [
    "This just for reference, the grid search will be taken separetely. If we wanted to do search them all, it would be approximately: $n_{targets} \\cdot n_{cv} \\cdot 4 \\cdot 10 \\cdot 6 \\cdot 8 \\cdot 4 \\cdot 4 \\approx 280,000$ possible combinations.\n",
    "\n",
    "\n",
    "If we do it separetely:\n",
    "$n_{targets} \\cdot n_{cv} \\cdot (4 + 10 + 6 + 8 + 4 + 4) \\approx 330$ possible combinations."
   ]
  },
  {
   "cell_type": "code",
   "execution_count": 45,
   "metadata": {},
   "outputs": [],
   "source": [
    "grid_separate = {\n",
    "                 'n_estimators' : {'n_estimators' : \n",
    "                                   [100, 200, 300, 400, 500]},\n",
    "                 'max_features' : {'max_features' : \n",
    "                                   range(20, 41, 2)},\n",
    "                 'min_samples_split' : {'min_samples_split' : \n",
    "                                        range(100, 401, 50)},\n",
    "                 'min_samples_leaf' : {'min_samples_leaf' : \n",
    "                                       range(20, 60, 5)},\n",
    "                 'subsample' : {'subsample' : \n",
    "                                [0.7, 0.8, 0.9, 1]},\n",
    "                 'learning_rate' : {'learning_rate' : \n",
    "                                    [0.01, 0.05, 0.1, 0.5]},\n",
    "                }"
   ]
  },
  {
   "cell_type": "markdown",
   "metadata": {},
   "source": [
    "#### Separate `GridSearchCV` for each target, for each parameter."
   ]
  },
  {
   "cell_type": "code",
   "execution_count": null,
   "metadata": {},
   "outputs": [],
   "source": [
    "CV_gb = {}\n",
    "for k_target, _ in dict_split.items():\n",
    "    CV_gb[k_target] = {}\n",
    "    for k, v in grid_separate.items():\n",
    "        CV_gb[k_target][k] = GridSearchCV(estimator = clf_gb,\n",
    "                                param_grid = v,\n",
    "                                cv = 3,\n",
    "                                scoring = 'roc_auc')"
   ]
  },
  {
   "cell_type": "code",
   "execution_count": null,
   "metadata": {},
   "outputs": [],
   "source": [
    "def get_best_param(cv_clf, dict_Xy, param):\n",
    "    \"\"\"\n",
    "    Gets the best values for a certain parameter, for each target.\n",
    "    \"\"\"\n",
    "    \n",
    "    best = {}\n",
    "    for k, v in dict_Xy.items():\n",
    "        \n",
    "        tic = time.time()\n",
    "        cv_clf[k][param].fit(v[0], v[2])\n",
    "        tac = time.time()\n",
    "\n",
    "        best[k] = cv_clf[k][param].best_params_[param]\n",
    "        \n",
    "        timey = round((tac - tic) / 60, 2)\n",
    "        print(f'Grid Search on {k} for the {param}: {timey} minutes.') \n",
    "        \n",
    "    return best"
   ]
  },
  {
   "cell_type": "markdown",
   "metadata": {},
   "source": [
    "#### Should take a long while... 3h..."
   ]
  },
  {
   "cell_type": "code",
   "execution_count": null,
   "metadata": {},
   "outputs": [],
   "source": [
    "best_params_sep = {k : get_best_param(CV_gb, dict_split, k)\n",
    "                   for k, _ in grid_separate.items()}"
   ]
  },
  {
   "cell_type": "markdown",
   "metadata": {},
   "source": [
    "#### Reshaping and saving"
   ]
  },
  {
   "cell_type": "code",
   "execution_count": null,
   "metadata": {},
   "outputs": [],
   "source": [
    "best_sep = {}\n",
    "for k, _ in dict_split.items():\n",
    "    best_p = {}\n",
    "    for k_params, _ in grid_separate.items():\n",
    "        best_p[k_params] = best_params_sep[k_params][k]\n",
    "        \n",
    "    best_sep[k] = best_p"
   ]
  },
  {
   "cell_type": "code",
   "execution_count": null,
   "metadata": {},
   "outputs": [],
   "source": [
    "with open('best_params_sep_new.json', 'w') as file:\n",
    "    json.dump(best_sep, file) "
   ]
  },
  {
   "cell_type": "markdown",
   "metadata": {},
   "source": [
    "#### Reopening it"
   ]
  },
  {
   "cell_type": "code",
   "execution_count": null,
   "metadata": {},
   "outputs": [],
   "source": [
    "with open('best_params_sep_new.json', 'r') as file:\n",
    "    best_sep = json.load(file)"
   ]
  },
  {
   "cell_type": "markdown",
   "metadata": {},
   "source": [
    "## 3. 2 Global Optimization"
   ]
  },
  {
   "cell_type": "code",
   "execution_count": 48,
   "metadata": {},
   "outputs": [],
   "source": [
    "clf_gb_global = {}\n",
    "for k, _ in dict_split.items():\n",
    "    clf_gb_global[k] = GradientBoostingClassifier(n_estimators = 100, \n",
    "                                                  learning_rate = 0.1, \n",
    "                                                  random_state = 42) \n"
   ]
  },
  {
   "cell_type": "markdown",
   "metadata": {},
   "source": [
    "This just for reference, the grid search will be taken separetely.\n",
    "The `min_samples_split`, `min_samples_leaf` and `subsample` parameters will be fixed for simplification. Now we have managed to reduce the search space to approximately: $n_{targets} \\cdot n_cv \\cdot 3 \\cdot 3 \\cdot 5 = 3^4 \\cdot 5 = 405$ possible combinations."
   ]
  },
  {
   "cell_type": "code",
   "execution_count": null,
   "metadata": {},
   "outputs": [],
   "source": [
    "param_grid_global = {\n",
    "                     'Churn' : {\n",
    "                                'n_estimators' : [80, 100, 120, 300, 500],\n",
    "                                'max_features' : range(35, 37, 1),\n",
    "                                'min_samples_split' : [150],\n",
    "                                'min_samples_leaf' : [20],\n",
    "                                'subsample' : [0.75, 1],\n",
    "                                'learning_rate' : [0.05, 0.1, 0.15]\n",
    "                               },\n",
    "                     'Upselling' : {\n",
    "                                    'n_estimators' : [80, 100, 120, 300, 500],\n",
    "                                    'max_features' : [38],\n",
    "                                    'min_samples_split' : [200],\n",
    "                                    'min_samples_leaf' : [45],\n",
    "                                    'subsample' : [1],\n",
    "                                    'learning_rate' : [0.05, 0.1, 0.15]\n",
    "                                   }, \n",
    "                     'Appetency' : {\n",
    "                                    'n_estimators' : [80, 100, 120, 300, 500],\n",
    "                                    'max_features' : [38],\n",
    "                                    'min_samples_split' : [100],\n",
    "                                    'min_samples_leaf' : [55],\n",
    "                                    'subsample' : [1],\n",
    "                                    'learning_rate' : [0.05, 0.1, 0.15]\n",
    "                                   }, \n",
    "                    }"
   ]
  },
  {
   "cell_type": "code",
   "execution_count": null,
   "metadata": {},
   "outputs": [],
   "source": [
    "CV_gb_global = {}\n",
    "for k, v in dict_split.items():\n",
    "    CV_gb_global[k] = GridSearchCV(estimator = clf_gb_global[k],\n",
    "                                   param_grid = param_grid_global[k],\n",
    "                                   cv = 3,\n",
    "                                   scoring = 'roc_auc')"
   ]
  },
  {
   "cell_type": "code",
   "execution_count": null,
   "metadata": {},
   "outputs": [],
   "source": [
    "best_params_global, time_to_opt_global = {}, {}\n",
    "for k, v in dict_split.items():\n",
    "    \n",
    "    tic = time.time()\n",
    "    CV_gb_global[k].fit(v[0], v[2])\n",
    "    tac = time.time()\n",
    "    \n",
    "    time_to_opt_global[k] = round(((tac - tic) / 60), 2)\n",
    "    best_params_global[k] = CV_gb_global[k].best_params_\n",
    "    \n",
    "    print(f'Time of the Grid Search for {k}: {time_to_opt_global[k]} minutes.')\n",
    "    print(f'{k}: {best_params_global[k]}')"
   ]
  },
  {
   "cell_type": "markdown",
   "metadata": {},
   "source": [
    "#### Saving"
   ]
  },
  {
   "cell_type": "code",
   "execution_count": null,
   "metadata": {},
   "outputs": [],
   "source": [
    "with open('best_params_global.json', 'w') as file:\n",
    "    json.dump(best_params_global, file)"
   ]
  },
  {
   "cell_type": "markdown",
   "metadata": {},
   "source": [
    "#### Opening"
   ]
  },
  {
   "cell_type": "code",
   "execution_count": null,
   "metadata": {},
   "outputs": [],
   "source": [
    "with open('best_params_global.json', 'r') as file:\n",
    "    best_params_global = json.load(file)"
   ]
  },
  {
   "cell_type": "markdown",
   "metadata": {},
   "source": [
    "## 3.3 Final Model's ROC-AUC"
   ]
  },
  {
   "cell_type": "code",
   "execution_count": null,
   "metadata": {},
   "outputs": [],
   "source": [
    "clf_gb_ult = {\n",
    "              'Churn' : GradientBoostingClassifier(n_estimators = 500, \n",
    "                                                   learning_rate = 0.05,\n",
    "                                                   min_samples_split = 150,\n",
    "                                                   min_samples_leaf = 20,\n",
    "                                                   max_features = 35,\n",
    "                                                   subsample = 0.75,\n",
    "                                                   random_state = 42),\n",
    "              'Upselling' : GradientBoostingClassifier(n_estimators = 300, \n",
    "                                                       learning_rate = 0.1,\n",
    "                                                       min_samples_split = 200,\n",
    "                                                       min_samples_leaf = 45,\n",
    "                                                       max_features = 38,\n",
    "                                                       subsample = 1,\n",
    "                                                       random_state = 42),\n",
    "              'Appetency' : GradientBoostingClassifier(n_estimators = 300, \n",
    "                                                       learning_rate = 0.05,\n",
    "                                                       min_samples_split = 100,\n",
    "                                                       min_samples_leaf = 55,\n",
    "                                                       max_features = 38,\n",
    "                                                       subsample = 1,\n",
    "                                                       random_state = 42),\n",
    "             }"
   ]
  },
  {
   "cell_type": "markdown",
   "metadata": {},
   "source": [
    "#### Final Score"
   ]
  },
  {
   "cell_type": "code",
   "execution_count": null,
   "metadata": {},
   "outputs": [],
   "source": [
    "n_cv, score_type = 5, 'roc_auc'\n",
    "kv_score_final = {}\n",
    "for k, v in clf_gb_ult.items():\n",
    "    \n",
    "    kv_score_final[k] = cross_val_score(v, \n",
    "                                        dict_thresh[k], \n",
    "                                        dict_targets[k].values.ravel(),\n",
    "                                        cv = n_cv,\n",
    "                                        scoring = score_type)"
   ]
  },
  {
   "cell_type": "code",
   "execution_count": null,
   "metadata": {},
   "outputs": [],
   "source": [
    "for k, v in kv_score_final.items():\n",
    "    kv_score_final[k] = round(kv_score_final[k].mean(), 5)\n",
    "    print(f'Final ROC-AUC Score for the {k} Target: {kv_score_final[k]}')"
   ]
  },
  {
   "cell_type": "markdown",
   "metadata": {},
   "source": [
    "#### Saving"
   ]
  },
  {
   "cell_type": "code",
   "execution_count": null,
   "metadata": {},
   "outputs": [],
   "source": [
    "with open('performance_train.json', 'w') as file:\n",
    "    json.dump(kv_score_final, file)"
   ]
  },
  {
   "cell_type": "markdown",
   "metadata": {},
   "source": [
    "#### Opening"
   ]
  },
  {
   "cell_type": "code",
   "execution_count": 51,
   "metadata": {},
   "outputs": [],
   "source": [
    "with open('performance_train.json', 'r') as file:\n",
    "    performance = json.load(file)"
   ]
  },
  {
   "cell_type": "code",
   "execution_count": 53,
   "metadata": {},
   "outputs": [
    {
     "name": "stdout",
     "output_type": "stream",
     "text": [
      "ROC-AUC for the Churn target: 0.73202\n",
      "ROC-AUC for the Upselling target: 0.86373\n",
      "ROC-AUC for the Appetency target: 0.82624\n"
     ]
    }
   ],
   "source": [
    "for k, v in performance.items():\n",
    "    print(f'ROC-AUC for the {k} target: {v}')"
   ]
  }
 ],
 "metadata": {
  "kernelspec": {
   "display_name": "Python 3",
   "language": "python",
   "name": "python3"
  },
  "language_info": {
   "codemirror_mode": {
    "name": "ipython",
    "version": 3
   },
   "file_extension": ".py",
   "mimetype": "text/x-python",
   "name": "python",
   "nbconvert_exporter": "python",
   "pygments_lexer": "ipython3",
   "version": "3.6.5"
  },
  "varInspector": {
   "cols": {
    "lenName": 16,
    "lenType": 16,
    "lenVar": 40
   },
   "kernels_config": {
    "python": {
     "delete_cmd_postfix": "",
     "delete_cmd_prefix": "del ",
     "library": "var_list.py",
     "varRefreshCmd": "print(var_dic_list())"
    },
    "r": {
     "delete_cmd_postfix": ") ",
     "delete_cmd_prefix": "rm(",
     "library": "var_list.r",
     "varRefreshCmd": "cat(var_dic_list()) "
    }
   },
   "types_to_exclude": [
    "module",
    "function",
    "builtin_function_or_method",
    "instance",
    "_Feature"
   ],
   "window_display": false
  }
 },
 "nbformat": 4,
 "nbformat_minor": 2
}
